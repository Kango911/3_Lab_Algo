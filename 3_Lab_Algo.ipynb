{
  "nbformat": 4,
  "nbformat_minor": 0,
  "metadata": {
    "colab": {
      "provenance": [],
      "authorship_tag": "ABX9TyOzgYgdog8QxznwJX0PBH64",
      "include_colab_link": true
    },
    "kernelspec": {
      "name": "python3",
      "display_name": "Python 3"
    },
    "language_info": {
      "name": "python"
    }
  },
  "cells": [
    {
      "cell_type": "markdown",
      "metadata": {
        "id": "view-in-github",
        "colab_type": "text"
      },
      "source": [
        "<a href=\"https://colab.research.google.com/github/Kango911/3_Lab_Algo/blob/main/3_Lab_Algo.ipynb\" target=\"_parent\"><img src=\"https://colab.research.google.com/assets/colab-badge.svg\" alt=\"Open In Colab\"/></a>"
      ]
    },
    {
      "cell_type": "markdown",
      "source": [
        "# Импорт необходимых библиотек"
      ],
      "metadata": {
        "id": "swAH6cE14bru"
      }
    },
    {
      "cell_type": "code",
      "source": [
        "import random\n",
        "import time\n",
        "import matplotlib.pyplot as plt"
      ],
      "metadata": {
        "id": "H9S1RzrB4feM"
      },
      "execution_count": 1,
      "outputs": []
    },
    {
      "cell_type": "markdown",
      "source": [
        "# Определение класса узла дерева"
      ],
      "metadata": {
        "id": "2SQQW01L4hnj"
      }
    },
    {
      "cell_type": "code",
      "source": [
        "class TreeNode:\n",
        "    def __init__(self, key):\n",
        "        self.left = None\n",
        "        self.right = None\n",
        "        self.val = key"
      ],
      "metadata": {
        "id": "8IZWUMQ34jiW"
      },
      "execution_count": 2,
      "outputs": []
    },
    {
      "cell_type": "markdown",
      "source": [
        "# Определение класса двоичного дерева поиска\n"
      ],
      "metadata": {
        "id": "Ln1qQN5p4nGM"
      }
    },
    {
      "cell_type": "code",
      "source": [
        "class BinarySearchTree:\n",
        "    def __init__(self):\n",
        "        self.root = None\n",
        "\n",
        "    def insert(self, key):\n",
        "        if self.root is None:\n",
        "            self.root = TreeNode(key)\n",
        "        else:\n",
        "            self._insert_recursive(self.root, key)\n",
        "\n",
        "    def _insert_recursive(self, node, key):\n",
        "        if key < node.val:\n",
        "            if node.left is None:\n",
        "                node.left = TreeNode(key)\n",
        "            else:\n",
        "                self._insert_recursive(node.left, key)\n",
        "        else:\n",
        "            if node.right is None:\n",
        "                node.right = TreeNode(key)\n",
        "            else:\n",
        "                self._insert_recursive(node.right, key)\n",
        "\n",
        "    def inorder(self):\n",
        "        return self._inorder_recursive(self.root)\n",
        "\n",
        "    def _inorder_recursive(self, node):\n",
        "        return self._inorder_recursive(node.left) + [node.val] + self._inorder_recursive(node.right) if node else []\n",
        "\n",
        "    def height(self):\n",
        "        return self._height_recursive(self.root)\n",
        "\n",
        "    def _height_recursive(self, node):\n",
        "        if not node:\n",
        "            return 0\n",
        "        return 1 + max(self._height_recursive(node.left), self._height_recursive(node.right))\n",
        "\n",
        "    def delete_key(self, key):\n",
        "        self.root = self._delete_recursive(self.root, key)\n",
        "\n",
        "    def _delete_recursive(self, node, key):\n",
        "        if not node:\n",
        "            return node\n",
        "        if key < node.val:\n",
        "            node.left = self._delete_recursive(node.left, key)\n",
        "        elif key > node.val:\n",
        "            node.right = self._delete_recursive(node.right, key)\n",
        "        else:\n",
        "            # Узел с одним или ни одним дочерним узлом\n",
        "            if not node.left:\n",
        "                return node.right\n",
        "            elif not node.right:\n",
        "                return node.left\n",
        "\n",
        "            # Узел с двумя дочерними узлами\n",
        "            min_larger_node = self._min_value_node(node.right)\n",
        "            node.val = min_larger_node.val\n",
        "            node.right = self._delete_recursive(node.right, min_larger_node.val)\n",
        "        return node\n",
        "\n",
        "    def _min_value_node(self, node):\n",
        "        current = node\n",
        "        while current.left:\n",
        "            current = current.left\n",
        "        return current"
      ],
      "metadata": {
        "id": "4aKZii2k4nnV"
      },
      "execution_count": 3,
      "outputs": []
    },
    {
      "cell_type": "markdown",
      "source": [
        "# Функция для генерации случайных чисел и построения дерева"
      ],
      "metadata": {
        "id": "r6ifF-p74s8K"
      }
    },
    {
      "cell_type": "code",
      "source": [
        "def generate_bst_and_sort(num_elements, value_range):\n",
        "    # Убедитесь, что количество элементов не больше диапазона\n",
        "    if num_elements > value_range:\n",
        "        raise ValueError(\"Количество элементов не может превышать диапазон значений.\")\n",
        "\n",
        "    bst = BinarySearchTree()\n",
        "    random_numbers = random.sample(range(1, value_range + 1), num_elements)\n",
        "\n",
        "    start_time = time.time()\n",
        "    for number in random_numbers:\n",
        "        bst.insert(number)\n",
        "    end_time = time.time()\n",
        "\n",
        "    sorted_array = bst.inorder()\n",
        "\n",
        "    return sorted_array, end_time - start_time"
      ],
      "metadata": {
        "id": "fU4IkXlU4t6C"
      },
      "execution_count": 4,
      "outputs": []
    },
    {
      "cell_type": "markdown",
      "source": [
        "# Замеры времени для различных размеров и диапазонов"
      ],
      "metadata": {
        "id": "wYey2MqP4wuo"
      }
    },
    {
      "cell_type": "code",
      "source": [
        "results = []\n",
        "sizes = [1000, 5000, 10000]\n",
        "ranges = [1, 500]\n",
        "\n",
        "for size in sizes:\n",
        "    for r in ranges:\n",
        "        if size > r:\n",
        "          print(f\"Пропускаем размер {size} для диапазона {r} (слишком мал).\")\n",
        "          continue  # Пропускаем этот случай\n",
        "          sorted_array, duration = generate_bst_and_sort(size, r)\n",
        "          results.append((size, r, duration))"
      ],
      "metadata": {
        "colab": {
          "base_uri": "https://localhost:8080/"
        },
        "id": "XE4Hra9x4yq7",
        "outputId": "1349e2b2-eac9-41f9-9322-422fcf960579"
      },
      "execution_count": 5,
      "outputs": [
        {
          "output_type": "stream",
          "name": "stdout",
          "text": [
            "Пропускаем размер 1000 для диапазона 1 (слишком мал).\n",
            "Пропускаем размер 1000 для диапазона 500 (слишком мал).\n",
            "Пропускаем размер 5000 для диапазона 1 (слишком мал).\n",
            "Пропускаем размер 5000 для диапазона 500 (слишком мал).\n",
            "Пропускаем размер 10000 для диапазона 1 (слишком мал).\n",
            "Пропускаем размер 10000 для диапазона 500 (слишком мал).\n"
          ]
        }
      ]
    },
    {
      "cell_type": "markdown",
      "source": [
        "# Вывод результатов"
      ],
      "metadata": {
        "id": "gGcQfRUf48h9"
      }
    },
    {
      "cell_type": "code",
      "source": [
        "import pandas as pd\n",
        "\n",
        "results_df = pd.DataFrame(results, columns=[\"Size\", \"Range\", \"Duration\"])\n",
        "print(results_df)\n"
      ],
      "metadata": {
        "colab": {
          "base_uri": "https://localhost:8080/"
        },
        "id": "Sc1HdEve48us",
        "outputId": "b58d9022-47fb-464d-e779-290587a9197d"
      },
      "execution_count": 6,
      "outputs": [
        {
          "output_type": "stream",
          "name": "stdout",
          "text": [
            "Empty DataFrame\n",
            "Columns: [Size, Range, Duration]\n",
            "Index: []\n"
          ]
        }
      ]
    },
    {
      "cell_type": "markdown",
      "source": [
        "# Визуализация результатов"
      ],
      "metadata": {
        "id": "oTqIp8dv5LnM"
      }
    },
    {
      "cell_type": "code",
      "source": [
        "plt.figure(figsize=(10, 5))\n",
        "for r in ranges:\n",
        "    subset = results_df[results_df['Range'] == r]\n",
        "    plt.plot(subset['Size'], subset['Duration'], marker='o', label=f'Range {r}')\n",
        "\n",
        "plt.title('Время выполнения для различных размеров и диапазонов')\n",
        "plt.xlabel('Размер массива')\n",
        "plt.ylabel('Время (сек.)')\n",
        "plt.legend()\n",
        "plt.grid()\n",
        "plt.show()\n"
      ],
      "metadata": {
        "colab": {
          "base_uri": "https://localhost:8080/",
          "height": 487
        },
        "id": "vyTZnTuu5L0O",
        "outputId": "53d8de69-df20-44f5-e781-ded1b0cb5d34"
      },
      "execution_count": 7,
      "outputs": [
        {
          "output_type": "display_data",
          "data": {
            "text/plain": [
              "<Figure size 1000x500 with 1 Axes>"
            ],
            "image/png": "[encoded data removed]"
          },
          "metadata": {}
        }
      ]
    },
    {
      "cell_type": "markdown",
      "source": [
        "# Часть 2: Определение высоты дерева и удаление узлов\n",
        "# Генерация ДДП из 50 узлов с ключами от 1 до 25"
      ],
      "metadata": {
        "id": "aDaeoGhN5mo8"
      }
    },
    {
      "cell_type": "code",
      "source": [
        "bst2 = BinarySearchTree()\n",
        "for _ in range(50):\n",
        "    bst2.insert(random.randint(1, 25))\n",
        "\n",
        "# Определение высоты дерева\n",
        "height_of_tree = bst2.height()\n",
        "print(f'Высота дерева: {height_of_tree}')"
      ],
      "metadata": {
        "colab": {
          "base_uri": "https://localhost:8080/"
        },
        "id": "DIs8YaO25rAD",
        "outputId": "4e9cb5e0-e9e5-4d30-945c-477bda5346a6"
      },
      "execution_count": 8,
      "outputs": [
        {
          "output_type": "stream",
          "name": "stdout",
          "text": [
            "Высота дерева: 12\n"
          ]
        }
      ]
    },
    {
      "cell_type": "markdown",
      "source": [
        "# Удаление узлов с заданным ключом"
      ],
      "metadata": {
        "id": "zQLWkmvJ5to5"
      }
    },
    {
      "cell_type": "code",
      "source": [
        "key_to_delete = int(input(\"Введите число X для удаления узлов: \"))\n",
        "bst2.delete_key(key_to_delete)\n",
        "\n",
        "# Вывод оставшихся узлов дерева после удаления\n",
        "remaining_nodes = bst2.inorder()\n",
        "print(f'Оставшиеся узлы после удаления {key_to_delete}: {remaining_nodes}')"
      ],
      "metadata": {
        "colab": {
          "base_uri": "https://localhost:8080/"
        },
        "id": "6aLxF2iU5wP8",
        "outputId": "d72cc834-4bfa-4029-efb8-29e688a1d4cf"
      },
      "execution_count": 9,
      "outputs": [
        {
          "output_type": "stream",
          "name": "stdout",
          "text": [
            "Введите число X для удаления узлов: 77\n",
            "Оставшиеся узлы после удаления 77: [1, 1, 1, 2, 3, 4, 4, 5, 5, 5, 5, 6, 6, 8, 8, 8, 8, 8, 10, 10, 10, 11, 12, 12, 13, 13, 13, 13, 13, 14, 14, 15, 15, 16, 17, 17, 19, 20, 20, 20, 20, 21, 22, 22, 23, 23, 24, 24, 24, 25]\n"
          ]
        }
      ]
    }
  ]
}